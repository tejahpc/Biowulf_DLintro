{
 "cells": [
  {
   "cell_type": "markdown",
   "metadata": {
    "colab_type": "text",
    "id": "qnyTxjK_GbOD"
   },
   "source": [
    "# Beyond Hello World, A Computer Vision Example\n",
    "\n",
    "In 01_HelloWorld.ipynb, you created a neural network that figured out the simple rule Y=2x-1 using data (learned behavior). Here, we'll apply deep learning on computer vision problem, where writing rules is much more difficult. Let's take a look at a scenario where we can recognize 10 different types of clothing."
   ]
  },
  {
   "cell_type": "markdown",
   "metadata": {
    "colab_type": "text",
    "id": "H41FYgtlHPjW"
   },
   "source": [
    "## Import Libraries\n",
    "Let's start with our import of pytorch (torch), numpy, and skimage for transforming the image."
   ]
  },
  {
   "cell_type": "code",
   "execution_count": 19,
   "metadata": {
    "colab": {
     "base_uri": "https://localhost:8080/",
     "height": 34
    },
    "colab_type": "code",
    "executionInfo": {
     "elapsed": 1577,
     "status": "ok",
     "timestamp": 1550587660097,
     "user": {
      "displayName": "Laurence Moroney",
      "photoUrl": "https://lh3.googleusercontent.com/-RcxktLY-TBk/AAAAAAAAAAI/AAAAAAAAABY/b4V4dTIqmPI/s64/photo.jpg",
      "userId": "06401446828348966425"
     },
     "user_tz": 480
    },
    "id": "q3KzJyjv3rnA",
    "outputId": "7a1ceed7-66f6-4a43-b3f4-26d54bd95817"
   },
   "outputs": [],
   "source": [
    "import torch \n",
    "import torch.nn as nn\n",
    "from skimage import transform\n",
    "import torch.nn.functional as F\n",
    "from torch.autograd import Variable\n",
    "import numpy as np"
   ]
  },
  {
   "cell_type": "markdown",
   "metadata": {
    "colab_type": "text",
    "id": "n_n1U5do3u_F"
   },
   "source": [
    "## Provide Data\n",
    "For the data, we will be using Fashion MNIST ( https://github.com/zalandoresearch/fashion-mnist ), consisting of a training set of 60,000 examples and a test set of 10,000 examples. Each example is a 28x28 grayscale image, associated with a label from 10 classes/ types of clothes. The dataset is available from the torchvision library, which consists of popular datasets, model architectures, and common image transformations for computer vision.. You load it like this:"
   ]
  },
  {
   "cell_type": "code",
   "execution_count": 20,
   "metadata": {
    "colab": {},
    "colab_type": "code",
    "id": "PmxkHFpt31bM"
   },
   "outputs": [],
   "source": [
    "from torchvision import datasets, transforms\n",
    "from torch.utils.data import Dataset, DataLoader\n",
    "trainset = datasets.FashionMNIST('/scratch/teja/F_MNIST_data/', download=True, train=True, transform=None)\n",
    "testset = datasets.FashionMNIST('/scratch/teja/F_MNIST_data/', download=True, train=False, transform=None)"
   ]
  },
  {
   "cell_type": "markdown",
   "metadata": {
    "colab_type": "text",
    "id": "rw395ROx4f5Q"
   },
   "source": [
    "Using matplotlib, we'll print a training image and its associated training label. Experiment with different indices in the array. For example, index 42 is a different boot than the one at index 0."
   ]
  },
  {
   "cell_type": "code",
   "execution_count": 21,
   "metadata": {
    "colab": {
     "base_uri": "https://localhost:8080/",
     "height": 1238
    },
    "colab_type": "code",
    "executionInfo": {
     "elapsed": 357,
     "status": "ok",
     "timestamp": 1550587722332,
     "user": {
      "displayName": "Laurence Moroney",
      "photoUrl": "https://lh3.googleusercontent.com/-RcxktLY-TBk/AAAAAAAAAAI/AAAAAAAAABY/b4V4dTIqmPI/s64/photo.jpg",
      "userId": "06401446828348966425"
     },
     "user_tz": 480
    },
    "id": "FPc9d3gJ3jWF",
    "outputId": "5efae963-162d-4418-c001-2e8d6af83f40"
   },
   "outputs": [
    {
     "name": "stdout",
     "output_type": "stream",
     "text": [
      "Training Label: 9\n",
      "tensor([[  0,   0,   0,   0,   0,   0,   0,   0,   0,   0,   0,   0,   0,   0,\n",
      "           0,   0,   0,   0,   0,   0,   0,   0,   0,   0,   0,   0,   0,   0],\n",
      "        [  0,   0,   0,   0,   0,   0,   0,   0,   0,   0,   0,   0,   0,   0,\n",
      "           0,   0,   0,   0,   0,   0,   0,   0,   0,   0,   0,   0,   0,   0],\n",
      "        [  0,   0,   0,   0,   0,   0,   0,   0,   0,   0,   0,   0,   0,   0,\n",
      "           0,   0,   0,   0,   0,   0,   0,   0,   0,   0,   0,   0,   0,   0],\n",
      "        [  0,   0,   0,   0,   0,   0,   0,   0,   0,   0,   0,   0,   1,   0,\n",
      "           0,  13,  73,   0,   0,   1,   4,   0,   0,   0,   0,   1,   1,   0],\n",
      "        [  0,   0,   0,   0,   0,   0,   0,   0,   0,   0,   0,   0,   3,   0,\n",
      "          36, 136, 127,  62,  54,   0,   0,   0,   1,   3,   4,   0,   0,   3],\n",
      "        [  0,   0,   0,   0,   0,   0,   0,   0,   0,   0,   0,   0,   6,   0,\n",
      "         102, 204, 176, 134, 144, 123,  23,   0,   0,   0,   0,  12,  10,   0],\n",
      "        [  0,   0,   0,   0,   0,   0,   0,   0,   0,   0,   0,   0,   0,   0,\n",
      "         155, 236, 207, 178, 107, 156, 161, 109,  64,  23,  77, 130,  72,  15],\n",
      "        [  0,   0,   0,   0,   0,   0,   0,   0,   0,   0,   0,   1,   0,  69,\n",
      "         207, 223, 218, 216, 216, 163, 127, 121, 122, 146, 141,  88, 172,  66],\n",
      "        [  0,   0,   0,   0,   0,   0,   0,   0,   0,   1,   1,   1,   0, 200,\n",
      "         232, 232, 233, 229, 223, 223, 215, 213, 164, 127, 123, 196, 229,   0],\n",
      "        [  0,   0,   0,   0,   0,   0,   0,   0,   0,   0,   0,   0,   0, 183,\n",
      "         225, 216, 223, 228, 235, 227, 224, 222, 224, 221, 223, 245, 173,   0],\n",
      "        [  0,   0,   0,   0,   0,   0,   0,   0,   0,   0,   0,   0,   0, 193,\n",
      "         228, 218, 213, 198, 180, 212, 210, 211, 213, 223, 220, 243, 202,   0],\n",
      "        [  0,   0,   0,   0,   0,   0,   0,   0,   0,   1,   3,   0,  12, 219,\n",
      "         220, 212, 218, 192, 169, 227, 208, 218, 224, 212, 226, 197, 209,  52],\n",
      "        [  0,   0,   0,   0,   0,   0,   0,   0,   0,   0,   6,   0,  99, 244,\n",
      "         222, 220, 218, 203, 198, 221, 215, 213, 222, 220, 245, 119, 167,  56],\n",
      "        [  0,   0,   0,   0,   0,   0,   0,   0,   0,   4,   0,   0,  55, 236,\n",
      "         228, 230, 228, 240, 232, 213, 218, 223, 234, 217, 217, 209,  92,   0],\n",
      "        [  0,   0,   1,   4,   6,   7,   2,   0,   0,   0,   0,   0, 237, 226,\n",
      "         217, 223, 222, 219, 222, 221, 216, 223, 229, 215, 218, 255,  77,   0],\n",
      "        [  0,   3,   0,   0,   0,   0,   0,   0,   0,  62, 145, 204, 228, 207,\n",
      "         213, 221, 218, 208, 211, 218, 224, 223, 219, 215, 224, 244, 159,   0],\n",
      "        [  0,   0,   0,   0,  18,  44,  82, 107, 189, 228, 220, 222, 217, 226,\n",
      "         200, 205, 211, 230, 224, 234, 176, 188, 250, 248, 233, 238, 215,   0],\n",
      "        [  0,  57, 187, 208, 224, 221, 224, 208, 204, 214, 208, 209, 200, 159,\n",
      "         245, 193, 206, 223, 255, 255, 221, 234, 221, 211, 220, 232, 246,   0],\n",
      "        [  3, 202, 228, 224, 221, 211, 211, 214, 205, 205, 205, 220, 240,  80,\n",
      "         150, 255, 229, 221, 188, 154, 191, 210, 204, 209, 222, 228, 225,   0],\n",
      "        [ 98, 233, 198, 210, 222, 229, 229, 234, 249, 220, 194, 215, 217, 241,\n",
      "          65,  73, 106, 117, 168, 219, 221, 215, 217, 223, 223, 224, 229,  29],\n",
      "        [ 75, 204, 212, 204, 193, 205, 211, 225, 216, 185, 197, 206, 198, 213,\n",
      "         240, 195, 227, 245, 239, 223, 218, 212, 209, 222, 220, 221, 230,  67],\n",
      "        [ 48, 203, 183, 194, 213, 197, 185, 190, 194, 192, 202, 214, 219, 221,\n",
      "         220, 236, 225, 216, 199, 206, 186, 181, 177, 172, 181, 205, 206, 115],\n",
      "        [  0, 122, 219, 193, 179, 171, 183, 196, 204, 210, 213, 207, 211, 210,\n",
      "         200, 196, 194, 191, 195, 191, 198, 192, 176, 156, 167, 177, 210,  92],\n",
      "        [  0,   0,  74, 189, 212, 191, 175, 172, 175, 181, 185, 188, 189, 188,\n",
      "         193, 198, 204, 209, 210, 210, 211, 188, 188, 194, 192, 216, 170,   0],\n",
      "        [  2,   0,   0,   0,  66, 200, 222, 237, 239, 242, 246, 243, 244, 221,\n",
      "         220, 193, 191, 179, 182, 182, 181, 176, 166, 168,  99,  58,   0,   0],\n",
      "        [  0,   0,   0,   0,   0,   0,   0,  40,  61,  44,  72,  41,  35,   0,\n",
      "           0,   0,   0,   0,   0,   0,   0,   0,   0,   0,   0,   0,   0,   0],\n",
      "        [  0,   0,   0,   0,   0,   0,   0,   0,   0,   0,   0,   0,   0,   0,\n",
      "           0,   0,   0,   0,   0,   0,   0,   0,   0,   0,   0,   0,   0,   0],\n",
      "        [  0,   0,   0,   0,   0,   0,   0,   0,   0,   0,   0,   0,   0,   0,\n",
      "           0,   0,   0,   0,   0,   0,   0,   0,   0,   0,   0,   0,   0,   0]],\n",
      "       dtype=torch.uint8)\n"
     ]
    },
    {
     "data": {
      "text/plain": [
       "<matplotlib.image.AxesImage at 0x2aab19db4400>"
      ]
     },
     "execution_count": 21,
     "metadata": {},
     "output_type": "execute_result"
    },
    {
     "data": {
      "image/png": "[encoded data removed]",
      "text/plain": [
       "<Figure size 432x288 with 1 Axes>"
      ]
     },
     "metadata": {
      "needs_background": "light"
     },
     "output_type": "display_data"
    }
   ],
   "source": [
    "%matplotlib inline\n",
    "import matplotlib.pyplot as plt\n",
    "idx=0  # replace with 42\n",
    "print(\"Training Label: {}\".format(trainset.train_labels[idx]))\n",
    "print(trainset.train_data[idx])\n",
    "plt.imshow(trainset.train_data[idx])"
   ]
  },
  {
   "cell_type": "markdown",
   "metadata": {
    "colab_type": "text",
    "id": "3cbrdH225_nH"
   },
   "source": [
    "You'll notice that all of the values in the number are between 0 and 255. If we are training a neural network, for various reasons it's easier if the values are **normalized**. Here we use torchvision transforms to normalize the pixels and transform to torch tensor. We also define the batch size for the Dataloader. "
   ]
  },
  {
   "cell_type": "code",
   "execution_count": 22,
   "metadata": {
    "colab": {},
    "colab_type": "code",
    "id": "kRH19pWs6ZDn"
   },
   "outputs": [],
   "source": [
    "import os    # os is needed to use the SLURM_CPUS_PER_TASK environment from the slurm session\n",
    "# define the transformations\n",
    "transform = transforms.Compose([transforms.ToTensor(),\n",
    "                              transforms.Normalize((0.5, 0.5, 0.5), (0.5, 0.5, 0.5)),\n",
    "                             ])\n",
    "# use fashion MNIST from the torchvision datasets but this time use transform defined above\n",
    "trainset = datasets.FashionMNIST('/scratch/teja/F_MNIST_data/', download=False, train=True, transform=transform)\n",
    "testset = datasets.FashionMNIST('/scratch/teja/F_MNIST_data/', download=False, train=False, transform=transform)\n",
    "# define batch size and use pytroch's dataloader for the data \n",
    "batch_size=1024 \n",
    "trainloader = DataLoader(trainset,batch_size=batch_size, shuffle=True,num_workers=int(os.environ['SLURM_CPUS_PER_TASK']))\n",
    "testloader = DataLoader(testset,batch_size=batch_size, shuffle=True,num_workers=int(os.environ['SLURM_CPUS_PER_TASK']))"
   ]
  },
  {
   "cell_type": "markdown",
   "metadata": {
    "colab_type": "text",
    "id": "3DkO0As46lRn"
   },
   "source": [
    "## Define and Compile the Neural Network\n",
    "Let's now design the model. Things to note:\n",
    "\n",
    "Linear Module (**nn.Linear**) computes output from input using a linear function, and holds internal Tensors for its weight and bias.\n",
    "\n",
    "Each layer of neurons need an activation function to tell them what to do. There's lots of options, but just use these for now.\n",
    "\n",
    "**Relu** effectively means \"If X>0 return X, else return 0\" -- so what it does it it only passes values 0 or greater to the next layer in the network.\n",
    "\n",
    "**Softmax** takes a set of values, and effectively picks the biggest one, so, for example, if the output of the last layer looks like [0.1, 0.1, 0.05, 0.1, 9.5, 0.1, 0.05, 0.05, 0.05], it saves you from fishing through it looking for the biggest value, and turns it into [0,0,0,0,1,0,0,0,0] -- The goal is to save a lot of coding!\n",
    "\n",
    "Here, we create a nn.Module class named Net. The init function (defines input and number of neurons) and forward function (where the network makes a guess) are defined and the backward function (where gradients are computed) is automatically defined using autograd.\n",
    "\n",
    "Once the model is defined, we instantiate the model passing in .cuda if using the GPU."
   ]
  },
  {
   "cell_type": "code",
   "execution_count": 23,
   "metadata": {
    "colab": {},
    "colab_type": "code",
    "id": "7mAyndG3kVlK"
   },
   "outputs": [],
   "source": [
    "class Net(nn.Module):\n",
    "    def __init__(self):\n",
    "        super().__init__()\n",
    "        self.fc1 = nn.Linear(784,128)  # 28x28 = 784; 1st hidden layer has 128 neurons\n",
    "        self.fc2 = nn.Linear(128,10)   # input is 128 from fc1 and output layer has 10 units\n",
    "    def forward(self,x):\n",
    "        x = self.fc1(x)\n",
    "        x = F.relu(x)\n",
    "        x = self.fc2(x)\n",
    "        x = F.softmax(x,dim=1)\n",
    "        return x\n",
    "\n",
    "if torch.cuda.is_available():\n",
    "    net = Net().cuda()\n",
    "else:\n",
    "    net = Net()"
   ]
  },
  {
   "cell_type": "markdown",
   "metadata": {
    "colab_type": "text",
    "id": "c8vbMCqb9Mh6"
   },
   "source": [
    "## Train the Neural Network\n",
    "\n",
    "Training the neural network fits your training data to your training labels -- i.e. have it figure out the relationship between the training data and its actual labels so in future if you have data that looks like the training data, then it can make a prediction for what that data would look like. The training is contained in the loop over the number of epochs. This is where it will go through the loop making a guess (outputs), measuring how good or bad it is (aka the loss), calculating the gradients (loss.backward), and using the opimizer to make another guess etc. When you run this code, you'll see the loss on the right hand side."
   ]
  },
  {
   "cell_type": "code",
   "execution_count": 27,
   "metadata": {
    "colab": {
     "base_uri": "https://localhost:8080/",
     "height": 204
    },
    "colab_type": "code",
    "executionInfo": {
     "elapsed": 29548,
     "status": "ok",
     "timestamp": 1550587849991,
     "user": {
      "displayName": "Laurence Moroney",
      "photoUrl": "https://lh3.googleusercontent.com/-RcxktLY-TBk/AAAAAAAAAAI/AAAAAAAAABY/b4V4dTIqmPI/s64/photo.jpg",
      "userId": "06401446828348966425"
     },
     "user_tz": 480
    },
    "id": "BLMdl9aP8nQ0",
    "outputId": "91a80606-f0a5-41f0-9d03-91d1ecdc8e17",
    "scrolled": true
   },
   "outputs": [
    {
     "name": "stdout",
     "output_type": "stream",
     "text": [
      "Epoch 1/50, Training Loss: 1.6198, Training Acc: 85.0117\n",
      "Epoch 2/50, Training Loss: 1.6122, Training Acc: 85.6533\n",
      "Epoch 3/50, Training Loss: 1.6078, Training Acc: 86.0683\n",
      "Epoch 4/50, Training Loss: 1.6029, Training Acc: 86.5283\n",
      "Epoch 5/50, Training Loss: 1.6010, Training Acc: 86.6050\n",
      "Epoch 6/50, Training Loss: 1.5981, Training Acc: 86.8983\n",
      "Epoch 7/50, Training Loss: 1.5951, Training Acc: 87.1517\n",
      "Epoch 8/50, Training Loss: 1.5920, Training Acc: 87.5517\n",
      "Epoch 9/50, Training Loss: 1.5885, Training Acc: 87.8917\n",
      "Epoch 10/50, Training Loss: 1.5873, Training Acc: 87.9233\n",
      "Epoch 11/50, Training Loss: 1.5846, Training Acc: 88.1767\n",
      "Epoch 12/50, Training Loss: 1.5831, Training Acc: 88.3683\n",
      "Epoch 13/50, Training Loss: 1.5808, Training Acc: 88.6167\n",
      "Epoch 14/50, Training Loss: 1.5795, Training Acc: 88.6817\n",
      "Epoch 15/50, Training Loss: 1.5775, Training Acc: 88.9200\n",
      "Epoch 16/50, Training Loss: 1.5749, Training Acc: 89.1183\n",
      "Epoch 17/50, Training Loss: 1.5747, Training Acc: 89.2250\n",
      "Epoch 18/50, Training Loss: 1.5720, Training Acc: 89.4700\n",
      "Epoch 19/50, Training Loss: 1.5706, Training Acc: 89.5583\n",
      "Epoch 20/50, Training Loss: 1.5696, Training Acc: 89.7000\n",
      "Epoch 21/50, Training Loss: 1.5684, Training Acc: 89.7967\n",
      "Epoch 22/50, Training Loss: 1.5668, Training Acc: 89.9133\n",
      "Epoch 23/50, Training Loss: 1.5655, Training Acc: 90.0817\n",
      "Epoch 24/50, Training Loss: 1.5639, Training Acc: 90.2483\n",
      "Epoch 25/50, Training Loss: 1.5632, Training Acc: 90.2983\n",
      "Epoch 26/50, Training Loss: 1.5614, Training Acc: 90.4367\n",
      "Epoch 27/50, Training Loss: 1.5605, Training Acc: 90.5300\n",
      "Epoch 28/50, Training Loss: 1.5598, Training Acc: 90.6133\n",
      "Epoch 29/50, Training Loss: 1.5585, Training Acc: 90.7167\n",
      "Epoch 30/50, Training Loss: 1.5576, Training Acc: 90.8667\n",
      "Epoch 31/50, Training Loss: 1.5556, Training Acc: 91.0583\n",
      "Epoch 32/50, Training Loss: 1.5554, Training Acc: 91.0600\n",
      "Epoch 33/50, Training Loss: 1.5553, Training Acc: 91.0617\n",
      "Epoch 34/50, Training Loss: 1.5537, Training Acc: 91.2617\n",
      "Epoch 35/50, Training Loss: 1.5537, Training Acc: 91.2133\n",
      "Epoch 36/50, Training Loss: 1.5534, Training Acc: 91.2333\n",
      "Epoch 37/50, Training Loss: 1.5517, Training Acc: 91.4000\n",
      "Epoch 38/50, Training Loss: 1.5506, Training Acc: 91.4750\n",
      "Epoch 39/50, Training Loss: 1.5497, Training Acc: 91.6733\n",
      "Epoch 40/50, Training Loss: 1.5497, Training Acc: 91.6317\n",
      "Epoch 41/50, Training Loss: 1.5496, Training Acc: 91.5933\n",
      "Epoch 42/50, Training Loss: 1.5469, Training Acc: 91.8833\n",
      "Epoch 43/50, Training Loss: 1.5468, Training Acc: 91.9083\n",
      "Epoch 44/50, Training Loss: 1.5457, Training Acc: 92.0500\n",
      "Epoch 45/50, Training Loss: 1.5459, Training Acc: 91.9650\n",
      "Epoch 46/50, Training Loss: 1.5453, Training Acc: 92.0817\n",
      "Epoch 47/50, Training Loss: 1.5455, Training Acc: 92.0000\n",
      "Epoch 48/50, Training Loss: 1.5460, Training Acc: 91.9633\n",
      "Epoch 49/50, Training Loss: 1.5454, Training Acc: 92.0417\n",
      "Epoch 50/50, Training Loss: 1.5433, Training Acc: 92.2033\n"
     ]
    }
   ],
   "source": [
    "num_epochs = 5;\n",
    "learning_rate = 0.001;\n",
    "\n",
    "train_loss = []\n",
    "train_accuracy = []\n",
    "\n",
    "criterion = nn.CrossEntropyLoss()      # define loss \n",
    "optimizer = torch.optim.Adam(net.parameters(), lr=learning_rate)   # define optimizer\n",
    "\n",
    "for epoch in range(num_epochs):\n",
    "    iter_loss = 0\n",
    "    correct = 0 \n",
    "    iterations = 0 \n",
    "    \n",
    "    for i, (images, labels) in enumerate(trainloader):\n",
    "        images.resize_(images.size()[0],784)\n",
    "        if torch.cuda.is_available():\n",
    "            images = Variable(images.cuda())\n",
    "            labels = Variable(labels.cuda())\n",
    "        else:\n",
    "            images = Variable(images)\n",
    "            labels = Variable(labels)\n",
    "        # Forward + Backward + Optimize\n",
    "        optimizer.zero_grad()\n",
    "        outputs = net.forward(images)\n",
    "        loss = criterion(outputs, labels)\n",
    "        iter_loss += loss.item() \n",
    "        loss.backward()\n",
    "        optimizer.step()\n",
    "        \n",
    "        # Record the correct predictions for training data \n",
    "        _, predicted = torch.max(outputs.data, 1)\n",
    "        correct += (predicted == labels.data).sum()\n",
    "        iterations += 1\n",
    "        \n",
    "    train_loss.append(iter_loss/iterations)\n",
    "    # Record the training accuracy\n",
    "    train_accuracy.append((100.0 * correct.cpu().numpy() / len(trainloader.dataset)))    # use numpy otherwise rounded up\n",
    "\n",
    "    print ('Epoch {}/{}, Training Loss: {:.4f}, Training Acc: {:.4f}'.format(epoch+1, num_epochs, train_loss[-1], train_accuracy[-1]))"
   ]
  },
  {
   "cell_type": "markdown",
   "metadata": {
    "colab_type": "text",
    "id": "-JJMsvSB-1UY"
   },
   "source": [
    "Notice how the loss decreases and the accuracy increases over time. Once training is done-- you should see an accuracy value at the end of the final epoch (~0.89). This tells you that your neural network is about 89% accurate in classifying the training data. I.e., it figured out a pattern match between the image and the labels that worked 89% of the time. "
   ]
  },
  {
   "cell_type": "markdown",
   "metadata": {},
   "source": [
    "## Evaluate model using unseen data\n",
    "\n",
    "We use the 10,000 test images to evaluate the model on unseen data. We can call **model.evaluate**, and pass in the two sets (images and labels), and it will report back the loss for each."
   ]
  },
  {
   "cell_type": "code",
   "execution_count": 29,
   "metadata": {
    "colab": {
     "base_uri": "https://localhost:8080/",
     "height": 51
    },
    "colab_type": "code",
    "executionInfo": {
     "elapsed": 832,
     "status": "ok",
     "timestamp": 1550587895553,
     "user": {
      "displayName": "Laurence Moroney",
      "photoUrl": "https://lh3.googleusercontent.com/-RcxktLY-TBk/AAAAAAAAAAI/AAAAAAAAABY/b4V4dTIqmPI/s64/photo.jpg",
      "userId": "06401446828348966425"
     },
     "user_tz": 480
    },
    "id": "WzlqsEzX9s5P",
    "outputId": "4dd8018a-f3ba-4e5b-e163-3d4f5dd12f19"
   },
   "outputs": [
    {
     "name": "stdout",
     "output_type": "stream",
     "text": [
      "Validation Accuracy: 87.8500\n"
     ]
    }
   ],
   "source": [
    "net.eval()     # put the network into evaluating mode \n",
    "correct = 0\n",
    "for i, (images, labels) in enumerate(testloader):\n",
    "        images.resize_(images.size()[0],784)\n",
    "        images = Variable(images.cuda())\n",
    "        classes = Variable(labels.cuda())\n",
    "        outputs = net.forward(images)\n",
    "        _, predicted = torch.max(outputs.data, 1)\n",
    "        correct += (predicted == classes.data).sum()\n",
    "\n",
    "valid_accuracy= 100.0 * correct.cpu().numpy() / len(testloader.dataset)\n",
    "\n",
    "print ('Validation Accuracy: {:.4f}'.format(valid_accuracy))\n",
    "        "
   ]
  },
  {
   "cell_type": "markdown",
   "metadata": {
    "colab_type": "text",
    "id": "6tki-Aro_Uax"
   },
   "source": [
    "For me, that returned an accuracy of about 0.86. As expected, the model probably would not do as well with *unseen* data as it did with data it was trained on!  \n"
   ]
  }
 ],
 "metadata": {
  "colab": {
   "collapsed_sections": [],
   "name": "Course 1 - Part 4 - Lesson 2 - Notebook.ipynb",
   "provenance": [
    {
     "file_id": "1yhyaHJIeyutXBuE2HmViuD-tV5EMqzUG",
     "timestamp": 1547798065395
    }
   ],
   "version": "0.3.2"
  },
  "kernelspec": {
   "display_name": "Python 3",
   "language": "python",
   "name": "python3"
  },
  "language_info": {
   "codemirror_mode": {
    "name": "ipython",
    "version": 3
   },
   "file_extension": ".py",
   "mimetype": "text/x-python",
   "name": "python",
   "nbconvert_exporter": "python",
   "pygments_lexer": "ipython3",
   "version": "3.6.8"
  }
 },
 "nbformat": 4,
 "nbformat_minor": 1
}
